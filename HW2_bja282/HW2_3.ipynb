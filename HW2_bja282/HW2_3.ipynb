{
 "cells": [
  {
   "cell_type": "code",
   "execution_count": 1,
   "metadata": {
    "collapsed": false
   },
   "outputs": [
    {
     "name": "stdout",
     "output_type": "stream",
     "text": [
      "/gws/open/NYCOpenData/nycopendata/data\n"
     ]
    }
   ],
   "source": [
    "##Check that an environmental variable DFDATA exists \n",
    "##and that it points to the data facility location '/gws/open/NYCOpenData/nycopendata/data/'\n",
    "from __future__ import division, print_function\n",
    "import os\n",
    "import matplotlib.pyplot as plt\n",
    "%matplotlib inline\n",
    "\n",
    "DFDATA = os.environ['DFDATA']\n",
    "print (DFDATA)"
   ]
  },
  {
   "cell_type": "code",
   "execution_count": 2,
   "metadata": {
    "collapsed": false
   },
   "outputs": [
    {
     "name": "stdout",
     "output_type": "stream",
     "text": [
      "Natural Gas Consumption by ZIP Code - 2010\n"
     ]
    },
    {
     "data": {
      "text/html": [
       "<div>\n",
       "<table border=\"1\" class=\"dataframe\">\n",
       "  <thead>\n",
       "    <tr style=\"text-align: right;\">\n",
       "      <th></th>\n",
       "      <th>Zip Code</th>\n",
       "      <th>Building type (service class</th>\n",
       "      <th>Consumption (therms)</th>\n",
       "      <th>Consumption (GJ)</th>\n",
       "      <th>Utility/Data Source</th>\n",
       "    </tr>\n",
       "  </thead>\n",
       "  <tbody>\n",
       "    <tr>\n",
       "      <th>0</th>\n",
       "      <td>10001\\n(40.75025902143676, -73.99688630375988)</td>\n",
       "      <td>Residential</td>\n",
       "      <td>58338.0</td>\n",
       "      <td>6155.0</td>\n",
       "      <td>ConEd</td>\n",
       "    </tr>\n",
       "    <tr>\n",
       "      <th>1</th>\n",
       "      <td>10002\\n(40.71612146793143, -73.98583147024613)</td>\n",
       "      <td>Residential</td>\n",
       "      <td>550055.0</td>\n",
       "      <td>58034.0</td>\n",
       "      <td>ConEd</td>\n",
       "    </tr>\n",
       "    <tr>\n",
       "      <th>2</th>\n",
       "      <td>10003\\n(40.73194394755518, -73.98887214913032)</td>\n",
       "      <td>Residential</td>\n",
       "      <td>260502.0</td>\n",
       "      <td>27484.0</td>\n",
       "      <td>ConEd</td>\n",
       "    </tr>\n",
       "    <tr>\n",
       "      <th>3</th>\n",
       "      <td>10005\\n(40.7061257920717, -74.00858468583453)</td>\n",
       "      <td>Residential</td>\n",
       "      <td>265.0</td>\n",
       "      <td>28.0</td>\n",
       "      <td>ConEd</td>\n",
       "    </tr>\n",
       "    <tr>\n",
       "      <th>4</th>\n",
       "      <td>10006\\n(40.70825614030866, -74.01355356964149)</td>\n",
       "      <td>Residential</td>\n",
       "      <td>2076.0</td>\n",
       "      <td>219.0</td>\n",
       "      <td>ConEd</td>\n",
       "    </tr>\n",
       "  </tbody>\n",
       "</table>\n",
       "</div>"
      ],
      "text/plain": [
       "                                         Zip Code  \\\n",
       "0  10001\\n(40.75025902143676, -73.99688630375988)   \n",
       "1  10002\\n(40.71612146793143, -73.98583147024613)   \n",
       "2  10003\\n(40.73194394755518, -73.98887214913032)   \n",
       "3   10005\\n(40.7061257920717, -74.00858468583453)   \n",
       "4  10006\\n(40.70825614030866, -74.01355356964149)   \n",
       "\n",
       "  Building type (service class   Consumption (therms)    Consumption (GJ)   \\\n",
       "0                  Residential                 58338.0              6155.0   \n",
       "1                  Residential                550055.0             58034.0   \n",
       "2                  Residential                260502.0             27484.0   \n",
       "3                  Residential                   265.0                28.0   \n",
       "4                  Residential                  2076.0               219.0   \n",
       "\n",
       "  Utility/Data Source  \n",
       "0               ConEd  \n",
       "1               ConEd  \n",
       "2               ConEd  \n",
       "3               ConEd  \n",
       "4               ConEd  "
      ]
     },
     "execution_count": 2,
     "metadata": {},
     "output_type": "execute_result"
    }
   ],
   "source": [
    "##Use pandas to read in the CSV file from the DF into a pandas dataframe. \n",
    "##The CSV file must have at least 2 numerical value columns.\n",
    "from pandas import Series, DataFrame\n",
    "import pandas\n",
    "import pandas as pd\n",
    "\n",
    "##Dataset: \"Natural Gas Consumption by Zip Code - 2010\n",
    "##https://datahub.cusp.nyu.edu/dataset/uedp-fegm\n",
    "\n",
    "df_gas = pd.read_csv(DFDATA + '/uedp-fegm/1414245967/uedp-fegm')\n",
    "\n",
    "##Display the top few rows of the DF in your notebook. This table must be rendered.\n",
    "print(\"Natural Gas Consumption by ZIP Code - 2010\")\n",
    "df_gas.head()"
   ]
  },
  {
   "cell_type": "code",
   "execution_count": 5,
   "metadata": {
    "collapsed": false
   },
   "outputs": [
    {
     "data": {
      "text/html": [
       "<div>\n",
       "<table border=\"1\" class=\"dataframe\">\n",
       "  <thead>\n",
       "    <tr style=\"text-align: right;\">\n",
       "      <th></th>\n",
       "      <th>Consumption (therms)</th>\n",
       "      <th>Consumption (GJ)</th>\n",
       "    </tr>\n",
       "  </thead>\n",
       "  <tbody>\n",
       "    <tr>\n",
       "      <th>0</th>\n",
       "      <td>58338.0</td>\n",
       "      <td>6155.0</td>\n",
       "    </tr>\n",
       "    <tr>\n",
       "      <th>1</th>\n",
       "      <td>550055.0</td>\n",
       "      <td>58034.0</td>\n",
       "    </tr>\n",
       "    <tr>\n",
       "      <th>2</th>\n",
       "      <td>260502.0</td>\n",
       "      <td>27484.0</td>\n",
       "    </tr>\n",
       "    <tr>\n",
       "      <th>3</th>\n",
       "      <td>265.0</td>\n",
       "      <td>28.0</td>\n",
       "    </tr>\n",
       "    <tr>\n",
       "      <th>4</th>\n",
       "      <td>2076.0</td>\n",
       "      <td>219.0</td>\n",
       "    </tr>\n",
       "  </tbody>\n",
       "</table>\n",
       "</div>"
      ],
      "text/plain": [
       "    Consumption (therms)    Consumption (GJ) \n",
       "0                 58338.0              6155.0\n",
       "1                550055.0             58034.0\n",
       "2                260502.0             27484.0\n",
       "3                   265.0                28.0\n",
       "4                  2076.0               219.0"
      ]
     },
     "execution_count": 5,
     "metadata": {},
     "output_type": "execute_result"
    }
   ],
   "source": [
    "##Remove all but 2 numerical values columns of your choice \n",
    "##(you can use the drop method of the dataframe, like we did in the class examples.)\n",
    "##Display the reducted dataframe. This table must be rendered.\n",
    "df_gas = pd.read_csv(DFDATA + '/uedp-fegm/1414245967/uedp-fegm')\n",
    "df_gas.drop(['Zip Code', 'Utility/Data Source', 'Building type (service class'], axis=1, inplace=True)\n",
    "df_gas.head()"
   ]
  },
  {
   "cell_type": "code",
   "execution_count": 6,
   "metadata": {
    "collapsed": false
   },
   "outputs": [
    {
     "data": {
      "text/html": [
       "<div>\n",
       "<table border=\"1\" class=\"dataframe\">\n",
       "  <thead>\n",
       "    <tr style=\"text-align: right;\">\n",
       "      <th></th>\n",
       "      <th>Consumption (therms)</th>\n",
       "      <th>Consumption (GJ)</th>\n",
       "    </tr>\n",
       "  </thead>\n",
       "  <tbody>\n",
       "    <tr>\n",
       "      <th>0</th>\n",
       "      <td>58338.0</td>\n",
       "      <td>6155.0</td>\n",
       "    </tr>\n",
       "    <tr>\n",
       "      <th>1</th>\n",
       "      <td>550055.0</td>\n",
       "      <td>58034.0</td>\n",
       "    </tr>\n",
       "    <tr>\n",
       "      <th>2</th>\n",
       "      <td>260502.0</td>\n",
       "      <td>27484.0</td>\n",
       "    </tr>\n",
       "    <tr>\n",
       "      <th>3</th>\n",
       "      <td>265.0</td>\n",
       "      <td>28.0</td>\n",
       "    </tr>\n",
       "    <tr>\n",
       "      <th>4</th>\n",
       "      <td>2076.0</td>\n",
       "      <td>219.0</td>\n",
       "    </tr>\n",
       "  </tbody>\n",
       "</table>\n",
       "</div>"
      ],
      "text/plain": [
       "    Consumption (therms)    Consumption (GJ) \n",
       "0                 58338.0              6155.0\n",
       "1                550055.0             58034.0\n",
       "2                260502.0             27484.0\n",
       "3                   265.0                28.0\n",
       "4                  2076.0               219.0"
      ]
     },
     "execution_count": 6,
     "metadata": {},
     "output_type": "execute_result"
    }
   ],
   "source": [
    "##Plot the columns one against the other in a scatter plot using the datafraome plot method.\n",
    "##The plot must be rendered.\n",
    "columns=['df_gas[0]', 'df_gas[1]']\n",
    "df_condensed = df_gas[[0, 1]]\n",
    "df_condensed.head()"
   ]
  },
  {
   "cell_type": "code",
   "execution_count": 14,
   "metadata": {
    "collapsed": false
   },
   "outputs": [
    {
     "data": {
      "text/plain": [
       "[' Consumption (therms) ', ' Consumption (GJ) ']"
      ]
     },
     "execution_count": 14,
     "metadata": {},
     "output_type": "execute_result"
    }
   ],
   "source": [
    "##Column names have extra spaces that were making it difficult to call them. \n",
    "list(df_gas.columns.values)"
   ]
  },
  {
   "cell_type": "code",
   "execution_count": 22,
   "metadata": {
    "collapsed": false
   },
   "outputs": [
    {
     "data": {
      "text/plain": [
       "<matplotlib.axes._subplots.AxesSubplot at 0x7f5c679e8790>"
      ]
     },
     "execution_count": 22,
     "metadata": {},
     "output_type": "execute_result"
    },
    {
     "data": {
      "image/png": "[encoded data removed]",
      "text/plain": [
       "<matplotlib.figure.Figure at 0x7f5c679bbed0>"
      ]
     },
     "metadata": {},
     "output_type": "display_data"
    }
   ],
   "source": [
    "#Plot the columns one against the other in a scatter plot using the datafraome plot method.\n",
    "df_gas.plot(kind='scatter', y=[' Consumption (therms) '],\n",
    "              x=[' Consumption (GJ) '],color='green', title='Natural Gas Consumption - 2010', label='Residential Consumption')"
   ]
  },
  {
   "cell_type": "code",
   "execution_count": null,
   "metadata": {
    "collapsed": false
   },
   "outputs": [],
   "source": []
  },
  {
   "cell_type": "code",
   "execution_count": null,
   "metadata": {
    "collapsed": true
   },
   "outputs": [],
   "source": []
  },
  {
   "cell_type": "code",
   "execution_count": null,
   "metadata": {
    "collapsed": true
   },
   "outputs": [],
   "source": []
  },
  {
   "cell_type": "code",
   "execution_count": null,
   "metadata": {
    "collapsed": true
   },
   "outputs": [],
   "source": []
  }
 ],
 "metadata": {
  "kernelspec": {
   "display_name": "PUI2016_Python2",
   "language": "python",
   "name": "pui2016_python2"
  },
  "language_info": {
   "codemirror_mode": {
    "name": "ipython",
    "version": 2
   },
   "file_extension": ".py",
   "mimetype": "text/x-python",
   "name": "python",
   "nbconvert_exporter": "python",
   "pygments_lexer": "ipython2",
   "version": "2.7.12"
  }
 },
 "nbformat": 4,
 "nbformat_minor": 0
}
