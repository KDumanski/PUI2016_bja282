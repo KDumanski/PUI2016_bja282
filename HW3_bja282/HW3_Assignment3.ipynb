{
 "cells": [
  {
   "cell_type": "markdown",
   "metadata": {},
   "source": [
    "<h1>Z-Test</h1>\n",
    "\n",
    "$ H_{0} $: The commute time is on average the same or longer with the new bus route as it was before\n",
    "\n",
    "            Tnew >= Told\n",
    "\n",
    "$ H_{a} $: The commute is shorter with the new bus route than it was with the old\n",
    "\n",
    "            Tnew<Told\n",
    "\n",
    "α = .05\n",
    "\n",
    "Previous route (population): N(μ=36, σ=6)"
   ]
  },
  {
   "cell_type": "code",
   "execution_count": 29,
   "metadata": {
    "collapsed": false
   },
   "outputs": [
    {
     "name": "stdout",
     "output_type": "stream",
     "text": [
      "  % Total    % Received % Xferd  Average Speed   Time    Time     Time  Current\r\n",
      "                                 Dload  Upload   Total   Spent    Left  Speed\r\n",
      "\r",
      "  0     0    0     0    0     0      0      0 --:--:-- --:--:-- --:--:--     0\r",
      "107  1179  107  1179    0     0   6822      0 --:--:-- --:--:-- --:--:-- 43666\r\n"
     ]
    }
   ],
   "source": [
    "from __future__ import print_function\n",
    "import pandas as pd\n",
    "import numpy as np\n",
    "import math\n",
    "!curl -O 'https://raw.githubusercontent.com/fedhere/PUI2016_fb55/master/Lab3_fb55/times.txt'"
   ]
  },
  {
   "cell_type": "markdown",
   "metadata": {},
   "source": [
    "H0: The commute time is on average the same or longer with the new bus route as it was before \n",
    "\n",
    "                Tnew >= Told\n",
    "    \n",
    "Ha: The commute is shorter with the new bus route than it was with the old\n",
    "\n",
    "                Tnew<Told"
   ]
  },
  {
   "cell_type": "markdown",
   "metadata": {},
   "source": [
    "Told ~ N(μ=36, σ=6)\n",
    "x = mean(Tnew) = 34.5"
   ]
  },
  {
   "cell_type": "code",
   "execution_count": 38,
   "metadata": {
    "collapsed": false
   },
   "outputs": [
    {
     "data": {
      "text/html": [
       "<div>\n",
       "<table border=\"1\" class=\"dataframe\">\n",
       "  <thead>\n",
       "    <tr style=\"text-align: right;\">\n",
       "      <th></th>\n",
       "      <th>Times</th>\n",
       "    </tr>\n",
       "  </thead>\n",
       "  <tbody>\n",
       "    <tr>\n",
       "      <th>0</th>\n",
       "      <td>31.622239</td>\n",
       "    </tr>\n",
       "    <tr>\n",
       "      <th>1</th>\n",
       "      <td>32.821376</td>\n",
       "    </tr>\n",
       "    <tr>\n",
       "      <th>2</th>\n",
       "      <td>30.229101</td>\n",
       "    </tr>\n",
       "    <tr>\n",
       "      <th>3</th>\n",
       "      <td>31.413766</td>\n",
       "    </tr>\n",
       "    <tr>\n",
       "      <th>4</th>\n",
       "      <td>39.010550</td>\n",
       "    </tr>\n",
       "  </tbody>\n",
       "</table>\n",
       "</div>"
      ],
      "text/plain": [
       "       Times\n",
       "0  31.622239\n",
       "1  32.821376\n",
       "2  30.229101\n",
       "3  31.413766\n",
       "4  39.010550"
      ]
     },
     "execution_count": 38,
     "metadata": {},
     "output_type": "execute_result"
    }
   ],
   "source": [
    "columns = ['Times']\n",
    "times_df = pd.DataFrame(columns=columns)\n",
    "times_df['Times']=np.loadtxt('times.txt')\n",
    "times_df.head()"
   ]
  },
  {
   "cell_type": "code",
   "execution_count": 40,
   "metadata": {
    "collapsed": false
   },
   "outputs": [
    {
     "name": "stdout",
     "output_type": "stream",
     "text": [
      "New Bus Route:\n",
      "Mean:  34.4661616883\n",
      "Standard Deviation: 7.10150406819\n",
      "Sample Size: 100\n"
     ]
    }
   ],
   "source": [
    "print('New Bus Route:')\n",
    "print ('Mean: ', float(np.mean(times_df)))\n",
    "print ('Standard Deviation:', float(np.std(times_df)))\n",
    "print ('Sample Size:', int(len(times_df)))"
   ]
  },
  {
   "cell_type": "markdown",
   "metadata": {},
   "source": [
    "<h2 align=\"center\">$ Z = \\frac{\\mu_{pop} - \\mu_{sample}}{\\sigma / \\sqrt{N}} $</h2>"
   ]
  },
  {
   "cell_type": "code",
   "execution_count": 49,
   "metadata": {
    "collapsed": false
   },
   "outputs": [
    {
     "name": "stdout",
     "output_type": "stream",
     "text": [
      "-2.55639718617\n"
     ]
    }
   ],
   "source": [
    "#Known: Told ~ N(μ=36, σ=6) x = mean(Tnew) = 34.5\n",
    "\n",
    "upop=float(np.mean(times_df))\n",
    "usample=36\n",
    "bottom = (6/np.sqrt(len(times_df)))\n",
    "ztest=((upop-usample)/bottom)\n",
    "\n",
    "print(ztest)"
   ]
  }
 ],
 "metadata": {
  "kernelspec": {
   "display_name": "PUI2016_Python2",
   "language": "python",
   "name": "pui2016_python2"
  },
  "language_info": {
   "codemirror_mode": {
    "name": "ipython",
    "version": 2
   },
   "file_extension": ".py",
   "mimetype": "text/x-python",
   "name": "python",
   "nbconvert_exporter": "python",
   "pygments_lexer": "ipython2",
   "version": "2.7.12"
  }
 },
 "nbformat": 4,
 "nbformat_minor": 0
}
